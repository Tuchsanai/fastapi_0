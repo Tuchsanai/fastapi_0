{
 "cells": [
  {
   "cell_type": "code",
   "execution_count": 1,
   "id": "89aab7be-cdb2-4d76-a22c-8a351c7cff65",
   "metadata": {},
   "outputs": [],
   "source": [
    "import json"
   ]
  },
  {
   "cell_type": "code",
   "execution_count": 3,
   "id": "7b284825-dd92-45f1-a6dc-ecdae1872c02",
   "metadata": {},
   "outputs": [
    {
     "data": {
      "text/plain": [
       "{'name': 'Python',\n",
       " 'author': 'Guido Van Rossum',\n",
       " 'year': 1990,\n",
       " 'frameworks': ['Flask', 'Django'],\n",
       " 'libraries': ['Pandas', 'Numpy', 'Matplotlib', 'Requests']}"
      ]
     },
     "execution_count": 3,
     "metadata": {},
     "output_type": "execute_result"
    }
   ],
   "source": [
    "prog_dict = {\n",
    "    \"name\": \"Python\",\n",
    "    \"author\": \"Guido Van Rossum\",\n",
    "    \"year\": 1990,\n",
    "    \"frameworks\": [\"Flask\", \"Django\"],\n",
    "    \"libraries\": [\"Pandas\", \"Numpy\", \"Matplotlib\", \"Requests\"]\n",
    "}\n",
    "\n",
    "prog_dict"
   ]
  },
  {
   "cell_type": "code",
   "execution_count": 6,
   "id": "f2c9a280-318a-4f4d-a517-495b9645c2f8",
   "metadata": {},
   "outputs": [
    {
     "data": {
      "text/plain": [
       "'{\"name\": \"Python\", \"author\": \"Guido Van Rossum\", \"year\": 1990, \"frameworks\": [\"Flask\", \"Django\"], \"libraries\": [\"Pandas\", \"Numpy\", \"Matplotlib\", \"Requests\"]}'"
      ]
     },
     "execution_count": 6,
     "metadata": {},
     "output_type": "execute_result"
    }
   ],
   "source": [
    "prog_string = json.dumps(prog_dict) \n",
    "\n",
    "prog_string"
   ]
  },
  {
   "cell_type": "code",
   "execution_count": 11,
   "id": "9bfc9332-0b53-4f50-b817-606a1c8728ac",
   "metadata": {},
   "outputs": [],
   "source": [
    "prog_string = '{\"a\":20}'"
   ]
  },
  {
   "cell_type": "code",
   "execution_count": 12,
   "id": "ce389d38-ce8f-42d9-8dc7-f4ed3268e655",
   "metadata": {},
   "outputs": [
    {
     "data": {
      "text/plain": [
       "{'a': 20}"
      ]
     },
     "execution_count": 12,
     "metadata": {},
     "output_type": "execute_result"
    }
   ],
   "source": [
    "prog_dict = json.loads(prog_string) \n",
    "\n",
    "prog_dict"
   ]
  },
  {
   "cell_type": "code",
   "execution_count": 13,
   "id": "9f6f659a-d91b-4443-b804-4b33e7d30254",
   "metadata": {},
   "outputs": [
    {
     "name": "stdout",
     "output_type": "stream",
     "text": [
      "\n"
     ]
    }
   ],
   "source": [
    "import requests\n",
    "\n",
    "url = 'https://www.w3schools.com/python/demopage.php'\n",
    "myobj = {'somekey': 'somevalue'}\n",
    "\n",
    "x = requests.post(url, data = myobj)\n",
    "\n",
    "#print the response text (the content of the requested file):\n",
    "\n",
    "print(x.text)\n"
   ]
  },
  {
   "cell_type": "code",
   "execution_count": 15,
   "id": "bd016fe5-202b-443d-82a1-0840376d96d6",
   "metadata": {},
   "outputs": [
    {
     "data": {
      "text/plain": [
       "b''"
      ]
     },
     "execution_count": 15,
     "metadata": {},
     "output_type": "execute_result"
    }
   ],
   "source": [
    "x.content"
   ]
  },
  {
   "cell_type": "code",
   "execution_count": 32,
   "id": "1c3482f0-328d-4b05-b06e-b010d601c1e7",
   "metadata": {},
   "outputs": [],
   "source": [
    "import json\n",
    "url = 'https://api.github.com/some/endpoint'\n",
    "payload = {'some': 'data'}\n",
    "r = requests.post(url, data=json.dumps(payload))"
   ]
  },
  {
   "cell_type": "code",
   "execution_count": 37,
   "id": "5b71e54d-5d4f-4372-9d41-cd0aa665289e",
   "metadata": {},
   "outputs": [
    {
     "data": {
      "text/plain": [
       "'{\"message\":\"Not Found\",\"documentation_url\":\"https://docs.github.com/rest\"}'"
      ]
     },
     "execution_count": 37,
     "metadata": {},
     "output_type": "execute_result"
    }
   ],
   "source": [
    "r.text"
   ]
  },
  {
   "cell_type": "code",
   "execution_count": null,
   "id": "72b6bf32-0857-4c48-bf5b-04f66c66648b",
   "metadata": {},
   "outputs": [],
   "source": []
  },
  {
   "cell_type": "code",
   "execution_count": null,
   "id": "128eefbb-a0df-4be0-85b9-8a0d0a19dba5",
   "metadata": {},
   "outputs": [],
   "source": []
  }
 ],
 "metadata": {
  "kernelspec": {
   "display_name": "Python 3",
   "language": "python",
   "name": "python3"
  },
  "language_info": {
   "codemirror_mode": {
    "name": "ipython",
    "version": 3
   },
   "file_extension": ".py",
   "mimetype": "text/x-python",
   "name": "python",
   "nbconvert_exporter": "python",
   "pygments_lexer": "ipython3",
   "version": "3.8.11"
  }
 },
 "nbformat": 4,
 "nbformat_minor": 5
}
