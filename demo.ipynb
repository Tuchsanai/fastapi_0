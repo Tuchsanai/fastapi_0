{
 "cells": [
  {
   "cell_type": "markdown",
   "id": "dc016aa7-5f46-4602-acc9-1f0676903b86",
   "metadata": {},
   "source": [
    "# Play with Json\n",
    "\n",
    "https://newbedev.com/what-is-the-difference-between-data-and-params-in-requests"
   ]
  },
  {
   "cell_type": "code",
   "execution_count": 1,
   "id": "89aab7be-cdb2-4d76-a22c-8a351c7cff65",
   "metadata": {},
   "outputs": [],
   "source": [
    "import json"
   ]
  },
  {
   "cell_type": "code",
   "execution_count": 25,
   "id": "7b284825-dd92-45f1-a6dc-ecdae1872c02",
   "metadata": {},
   "outputs": [
    {
     "data": {
      "text/plain": [
       "{'name': 'Python',\n",
       " 'author': 'Guido Van Rossum',\n",
       " 'year': 1990,\n",
       " 'frameworks': ['Flask', 'Django'],\n",
       " 'libraries': ['Pandas', 'Numpy', 'Matplotlib', 'Requests']}"
      ]
     },
     "execution_count": 25,
     "metadata": {},
     "output_type": "execute_result"
    }
   ],
   "source": [
    "prog_dict = {\n",
    "    \"name\": \"Python\",\n",
    "    \"author\": \"Guido Van Rossum\",\n",
    "    \"year\": 1990,\n",
    "    \"frameworks\": [\"Flask\", \"Django\"],\n",
    "    \"libraries\": [\"Pandas\", \"Numpy\", \"Matplotlib\", \"Requests\"]\n",
    "}\n",
    "prog_dict"
   ]
  },
  {
   "cell_type": "code",
   "execution_count": 26,
   "id": "f2c9a280-318a-4f4d-a517-495b9645c2f8",
   "metadata": {},
   "outputs": [
    {
     "data": {
      "text/plain": [
       "'{\"name\": \"Python\", \"author\": \"Guido Van Rossum\", \"year\": 1990, \"frameworks\": [\"Flask\", \"Django\"], \"libraries\": [\"Pandas\", \"Numpy\", \"Matplotlib\", \"Requests\"]}'"
      ]
     },
     "execution_count": 26,
     "metadata": {},
     "output_type": "execute_result"
    }
   ],
   "source": [
    "prog_string = json.dumps(prog_dict) \n",
    "prog_string"
   ]
  },
  {
   "cell_type": "code",
   "execution_count": 27,
   "id": "ce389d38-ce8f-42d9-8dc7-f4ed3268e655",
   "metadata": {},
   "outputs": [
    {
     "data": {
      "text/plain": [
       "{'name': 'Python',\n",
       " 'author': 'Guido Van Rossum',\n",
       " 'year': 1990,\n",
       " 'frameworks': ['Flask', 'Django'],\n",
       " 'libraries': ['Pandas', 'Numpy', 'Matplotlib', 'Requests']}"
      ]
     },
     "execution_count": 27,
     "metadata": {},
     "output_type": "execute_result"
    }
   ],
   "source": [
    "prog_dict = json.loads(prog_string) \n",
    "\n",
    "prog_dict"
   ]
  },
  {
   "cell_type": "code",
   "execution_count": 33,
   "id": "fe9f41fc-957f-41cc-aec0-04c716fec7e2",
   "metadata": {},
   "outputs": [
    {
     "name": "stdout",
     "output_type": "stream",
     "text": [
      "https://www.w3schools.com/python/demopage.php\n",
      "\n"
     ]
    }
   ],
   "source": [
    "import requests\n",
    "\n",
    "url = 'https://www.w3schools.com/python/demopage.php'\n",
    "myobj = {'somekey': 'somevalue'}\n",
    "\n",
    "x = requests.post(url, data = myobj)\n",
    "\n",
    "\n",
    "print(x.url)\n",
    "print(x.text)"
   ]
  },
  {
   "cell_type": "code",
   "execution_count": 34,
   "id": "6fc97563-b86d-496f-8b9d-8ea30e7288f5",
   "metadata": {},
   "outputs": [
    {
     "name": "stdout",
     "output_type": "stream",
     "text": [
      "{\n",
      "  \"args\": {}, \n",
      "  \"data\": \"foobar\", \n",
      "  \"files\": {}, \n",
      "  \"form\": {}, \n",
      "  \"headers\": {\n",
      "    \"Accept\": \"*/*\", \n",
      "    \"Accept-Encoding\": \"gzip, deflate, br\", \n",
      "    \"Content-Length\": \"6\", \n",
      "    \"Host\": \"httpbin.org\", \n",
      "    \"User-Agent\": \"python-requests/2.26.0\", \n",
      "    \"X-Amzn-Trace-Id\": \"Root=1-617ff104-3105b57857f7b74635b19a21\"\n",
      "  }, \n",
      "  \"json\": null, \n",
      "  \"origin\": \"58.8.176.140\", \n",
      "  \"url\": \"http://httpbin.org/post\"\n",
      "}\n",
      "\n"
     ]
    }
   ],
   "source": [
    "payload = 'foobar'\n",
    "r = requests.post('http://httpbin.org/post', data=payload)\n",
    "print(r.text)"
   ]
  },
  {
   "cell_type": "markdown",
   "id": "4a361de5-fd6e-440b-8578-e6bf7d968e3d",
   "metadata": {},
   "source": [
    "# Our"
   ]
  },
  {
   "cell_type": "code",
   "execution_count": 4,
   "id": "128eefbb-a0df-4be0-85b9-8a0d0a19dba5",
   "metadata": {},
   "outputs": [
    {
     "data": {
      "text/plain": [
       "'{\"Hello\":\"This is demo\"}'"
      ]
     },
     "execution_count": 4,
     "metadata": {},
     "output_type": "execute_result"
    }
   ],
   "source": [
    "import json\n",
    "import requests\n",
    "url = 'http://127.0.0.1:8000/'\n",
    "r = requests.get(url)\n",
    "r.text"
   ]
  },
  {
   "cell_type": "code",
   "execution_count": 35,
   "id": "f30d78e4-0fab-448d-be29-57902266f36f",
   "metadata": {},
   "outputs": [
    {
     "name": "stdout",
     "output_type": "stream",
     "text": [
      "http://127.0.0.1:8000/blog_get/data?page=5&page_size=18\n",
      "{\"message\":\"All 18 blogs on page 5\"}\n"
     ]
    }
   ],
   "source": [
    "url     = 'http://127.0.0.1:8000/blog_get/data'\n",
    "params  = {'page': 5,'page_size':18}\n",
    "r       = requests.get(url, params= params)\n",
    "\n",
    "print(r.url)\n",
    "# print(r.headers)\n",
    "# print(r.cookies)\n",
    "print(r.text)\n",
    "\n"
   ]
  },
  {
   "cell_type": "code",
   "execution_count": 38,
   "id": "08f8847a-19b4-4677-85b1-604625ade87f",
   "metadata": {},
   "outputs": [
    {
     "name": "stdout",
     "output_type": "stream",
     "text": [
      "http://127.0.0.1:8000/blog_get/data\n",
      "{\"message\":\"All None blogs on page 1\"}\n"
     ]
    }
   ],
   "source": [
    "url     = 'http://127.0.0.1:8000/blog_get/data'\n",
    "params  = {'page': 5,'page_size':18}\n",
    "r       = requests.get(url,data = json.dumps(params))\n",
    "\n",
    "\n",
    "print(r.url)\n",
    "# print(r.headers)\n",
    "# print(r.cookies)\n",
    "print(r.text)\n"
   ]
  },
  {
   "cell_type": "code",
   "execution_count": null,
   "id": "41a9a80a-bde7-4929-9133-97456d499024",
   "metadata": {},
   "outputs": [],
   "source": []
  }
 ],
 "metadata": {
  "kernelspec": {
   "display_name": "Python 3 (ipykernel)",
   "language": "python",
   "name": "python3"
  },
  "language_info": {
   "codemirror_mode": {
    "name": "ipython",
    "version": 3
   },
   "file_extension": ".py",
   "mimetype": "text/x-python",
   "name": "python",
   "nbconvert_exporter": "python",
   "pygments_lexer": "ipython3",
   "version": "3.8.12"
  }
 },
 "nbformat": 4,
 "nbformat_minor": 5
}
