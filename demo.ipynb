{
 "cells": [
  {
   "cell_type": "markdown",
   "id": "dc016aa7-5f46-4602-acc9-1f0676903b86",
   "metadata": {},
   "source": [
    "# Play with Json\n",
    "\n",
    "https://newbedev.com/what-is-the-difference-between-data-and-params-in-requests"
   ]
  },
  {
   "cell_type": "code",
   "execution_count": 1,
   "id": "89aab7be-cdb2-4d76-a22c-8a351c7cff65",
   "metadata": {},
   "outputs": [],
   "source": [
    "import json"
   ]
  },
  {
   "cell_type": "code",
   "execution_count": 25,
   "id": "7b284825-dd92-45f1-a6dc-ecdae1872c02",
   "metadata": {},
   "outputs": [
    {
     "data": {
      "text/plain": [
       "{'name': 'Python',\n",
       " 'author': 'Guido Van Rossum',\n",
       " 'year': 1990,\n",
       " 'frameworks': ['Flask', 'Django'],\n",
       " 'libraries': ['Pandas', 'Numpy', 'Matplotlib', 'Requests']}"
      ]
     },
     "execution_count": 25,
     "metadata": {},
     "output_type": "execute_result"
    }
   ],
   "source": [
    "prog_dict = {\n",
    "    \"name\": \"Python\",\n",
    "    \"author\": \"Guido Van Rossum\",\n",
    "    \"year\": 1990,\n",
    "    \"frameworks\": [\"Flask\", \"Django\"],\n",
    "    \"libraries\": [\"Pandas\", \"Numpy\", \"Matplotlib\", \"Requests\"]\n",
    "}\n",
    "prog_dict"
   ]
  },
  {
   "cell_type": "code",
   "execution_count": 26,
   "id": "f2c9a280-318a-4f4d-a517-495b9645c2f8",
   "metadata": {},
   "outputs": [
    {
     "data": {
      "text/plain": [
       "'{\"name\": \"Python\", \"author\": \"Guido Van Rossum\", \"year\": 1990, \"frameworks\": [\"Flask\", \"Django\"], \"libraries\": [\"Pandas\", \"Numpy\", \"Matplotlib\", \"Requests\"]}'"
      ]
     },
     "execution_count": 26,
     "metadata": {},
     "output_type": "execute_result"
    }
   ],
   "source": [
    "prog_string = json.dumps(prog_dict) \n",
    "prog_string"
   ]
  },
  {
   "cell_type": "code",
   "execution_count": 27,
   "id": "ce389d38-ce8f-42d9-8dc7-f4ed3268e655",
   "metadata": {},
   "outputs": [
    {
     "data": {
      "text/plain": [
       "{'name': 'Python',\n",
       " 'author': 'Guido Van Rossum',\n",
       " 'year': 1990,\n",
       " 'frameworks': ['Flask', 'Django'],\n",
       " 'libraries': ['Pandas', 'Numpy', 'Matplotlib', 'Requests']}"
      ]
     },
     "execution_count": 27,
     "metadata": {},
     "output_type": "execute_result"
    }
   ],
   "source": [
    "prog_dict = json.loads(prog_string) \n",
    "\n",
    "prog_dict"
   ]
  },
  {
   "cell_type": "code",
   "execution_count": 33,
   "id": "fe9f41fc-957f-41cc-aec0-04c716fec7e2",
   "metadata": {},
   "outputs": [
    {
     "name": "stdout",
     "output_type": "stream",
     "text": [
      "https://www.w3schools.com/python/demopage.php\n",
      "\n"
     ]
    }
   ],
   "source": [
    "import requests\n",
    "\n",
    "url = 'https://www.w3schools.com/python/demopage.php'\n",
    "myobj = {'somekey': 'somevalue'}\n",
    "\n",
    "x = requests.post(url, data = myobj)\n",
    "\n",
    "\n",
    "print(x.url)\n",
    "print(x.text)"
   ]
  },
  {
   "cell_type": "code",
   "execution_count": 34,
   "id": "6fc97563-b86d-496f-8b9d-8ea30e7288f5",
   "metadata": {},
   "outputs": [
    {
     "name": "stdout",
     "output_type": "stream",
     "text": [
      "{\n",
      "  \"args\": {}, \n",
      "  \"data\": \"foobar\", \n",
      "  \"files\": {}, \n",
      "  \"form\": {}, \n",
      "  \"headers\": {\n",
      "    \"Accept\": \"*/*\", \n",
      "    \"Accept-Encoding\": \"gzip, deflate, br\", \n",
      "    \"Content-Length\": \"6\", \n",
      "    \"Host\": \"httpbin.org\", \n",
      "    \"User-Agent\": \"python-requests/2.26.0\", \n",
      "    \"X-Amzn-Trace-Id\": \"Root=1-617ff104-3105b57857f7b74635b19a21\"\n",
      "  }, \n",
      "  \"json\": null, \n",
      "  \"origin\": \"58.8.176.140\", \n",
      "  \"url\": \"http://httpbin.org/post\"\n",
      "}\n",
      "\n"
     ]
    }
   ],
   "source": [
    "payload = 'foobar'\n",
    "r = requests.post('http://httpbin.org/post', data=payload)\n",
    "print(r.text)"
   ]
  },
  {
   "cell_type": "markdown",
   "id": "4a361de5-fd6e-440b-8578-e6bf7d968e3d",
   "metadata": {},
   "source": [
    "# blog_get"
   ]
  },
  {
   "cell_type": "code",
   "execution_count": 1,
   "id": "128eefbb-a0df-4be0-85b9-8a0d0a19dba5",
   "metadata": {},
   "outputs": [
    {
     "data": {
      "text/plain": [
       "'{\"Hello\":\"This is demo\"}'"
      ]
     },
     "execution_count": 1,
     "metadata": {},
     "output_type": "execute_result"
    }
   ],
   "source": [
    "import json\n",
    "import requests\n",
    "import numpy as np\n",
    "\n",
    "url = 'http://127.0.0.1:8000/'\n",
    "r = requests.get(url)\n",
    "r.text"
   ]
  },
  {
   "cell_type": "code",
   "execution_count": 2,
   "id": "41a9a80a-bde7-4929-9133-97456d499024",
   "metadata": {},
   "outputs": [
    {
     "name": "stdout",
     "output_type": "stream",
     "text": [
      "URL =  http://127.0.0.1:8000/blog_get/test_data?id=5&page_size=18&v=0.4820397605796774&v=-0.10117047138929819&v=-2.782740025718703&v=2.0713823296023968&v=0.9508289214166789\n",
      "Header =  {'date': 'Fri, 05 Nov 2021 06:42:47 GMT', 'server': 'uvicorn', 'content-length': '276', 'content-type': 'application/json'}\n",
      "<RequestsCookieJar[]>\n",
      "{\"blog\":{\"url\":\"google.com\",\"alias\":\"sky walker\",\"vblog\":[-0.3491504841687539,-0.03838855070807414,-0.8659410868795719,1.2037613133754939]},\"message\":\"id = 5 page = 18 , v=[0.4820397605796774, -0.10117047138929819, -2.782740025718703, 2.0713823296023968, 0.9508289214166789]\"}\n",
      "200\n"
     ]
    }
   ],
   "source": [
    "url     = 'http://127.0.0.1:8000/blog_get/test_data'\n",
    "params  = {'page': 5,'page_size':18}\n",
    "data    = {'url':'google.com','alias':'sky walker','vblog':np.random.randn(4).tolist()}\n",
    "params  = {'id': 5,'page_size':18, 'v': np.random.randn(5)}\n",
    "r       = requests.get(url,data = json.dumps(data),params =params)\n",
    "\n",
    "print('URL = ',r.url)\n",
    "print('Header = ',r.headers)\n",
    "print(r.cookies)\n",
    "print(r.text)\n",
    "\n",
    "print(r.status_code)"
   ]
  },
  {
   "cell_type": "markdown",
   "id": "dfee692f",
   "metadata": {},
   "source": [
    "# Product"
   ]
  },
  {
   "cell_type": "code",
   "execution_count": 27,
   "id": "660d33bc",
   "metadata": {},
   "outputs": [
    {
     "name": "stdout",
     "output_type": "stream",
     "text": [
      "URL =  http://127.0.0.1:8000/product/all\n",
      "Header =  {'date': 'Fri, 05 Nov 2021 07:46:41 GMT', 'server': 'uvicorn', 'content-length': '18', 'content-type': 'text/plain; charset=utf-8', 'set-cookie': 'test_cookie=test_cookie_value; Path=/; SameSite=lax', 'custom_response_header': 'test header'}\n",
      "<RequestsCookieJar[<Cookie test_cookie=test_cookie_value for 127.0.0.1/>]>\n",
      "watch camera phone\n",
      "200\n"
     ]
    }
   ],
   "source": [
    "url     = 'http://127.0.0.1:8000/product/all'\n",
    "xheaders = {'content-type': 'application/json'}\n",
    "\n",
    "r       = requests.post(url,headers= xheaders)\n",
    "\n",
    "print('URL = ',r.url)\n",
    "print('Header = ',r.headers)\n",
    "print(r.cookies)\n",
    "print(r.text)\n",
    "\n",
    "print(r.status_code)"
   ]
  },
  {
   "cell_type": "code",
   "execution_count": 19,
   "id": "617cdb55-8664-4055-93e2-82d70136ceae",
   "metadata": {},
   "outputs": [
    {
     "name": "stdout",
     "output_type": "stream",
     "text": [
      "URL =  http://127.0.0.1:8000/product/withheader\n",
      "Header =  {'date': 'Fri, 05 Nov 2021 07:16:15 GMT', 'server': 'uvicorn', 'content-length': '73', 'content-type': 'application/json'}\n",
      "<RequestsCookieJar[]>\n",
      "{\"data\":[\"watch\",\"camera\",\"phone\"],\"custom_header\":null,\"my_cookie\":null}\n",
      "200\n"
     ]
    }
   ],
   "source": [
    "url     = 'http://127.0.0.1:8000/product/withheader'\n",
    "xheaders = {'content-type': 'application/json'}\n",
    "cookies_dict = {\"my_cookie\": \"cookie_value\"}\n",
    "\n",
    "r       = requests.post(url,headers= xheaders,cookies=cookies_dict)\n",
    "\n",
    "print('URL = ',r.url)\n",
    "print('Header = ',r.headers)\n",
    "print(r.cookies)\n",
    "print(r.text)\n",
    "\n",
    "print(r.status_code)"
   ]
  },
  {
   "cell_type": "code",
   "execution_count": 28,
   "id": "8affcdc0-b5c4-4c25-bb2a-7e87675795c2",
   "metadata": {},
   "outputs": [
    {
     "name": "stdout",
     "output_type": "stream",
     "text": [
      "URL =  http://127.0.0.1:8000/product/headers-and-object/\n",
      "Header =  {'date': 'Fri, 05 Nov 2021 07:46:55 GMT', 'server': 'uvicorn', 'content-length': '25', 'content-type': 'application/json', 'x-cat-dog': 'alone in the world'}\n",
      "{\"message\":\"Hello World\"}\n",
      "200\n"
     ]
    }
   ],
   "source": [
    "url     = 'http://127.0.0.1:8000/product/headers-and-object/'\n",
    "r       = requests.get(url)\n",
    "\n",
    "print('URL = ',r.url)\n",
    "print('Header = ',r.headers)\n",
    "print(r.text)\n",
    "print(r.status_code)\n"
   ]
  },
  {
   "cell_type": "code",
   "execution_count": 29,
   "id": "1edec82b-5c4c-4cd5-89f7-4d2a6473d901",
   "metadata": {},
   "outputs": [
    {
     "name": "stdout",
     "output_type": "stream",
     "text": [
      "URL =  http://127.0.0.1:8000/product/headers/\n",
      "Header =  {'date': 'Fri, 05 Nov 2021 07:47:13 GMT', 'server': 'uvicorn', 'x-cat-dog': 'alone in the world', 'content-language': 'en-US', 'content-length': '25', 'content-type': 'application/json'}\n",
      "{\"message\":\"Hello World\"}\n",
      "200\n"
     ]
    }
   ],
   "source": [
    "url     = 'http://127.0.0.1:8000/product/headers/'\n",
    "r       = requests.get(url)\n",
    "print('URL = ',r.url)\n",
    "print('Header = ',r.headers)\n",
    "print(r.text)\n",
    "print(r.status_code)\n"
   ]
  },
  {
   "cell_type": "code",
   "execution_count": 34,
   "id": "7ffe5a2f",
   "metadata": {},
   "outputs": [
    {
     "name": "stdout",
     "output_type": "stream",
     "text": [
      "URL =  http://127.0.0.1:8000/product/cookie-and-object/\n",
      "Header =  {'date': 'Fri, 05 Nov 2021 07:49:02 GMT', 'server': 'uvicorn', 'content-length': '52', 'content-type': 'application/json', 'set-cookie': 'fakesession=fake-cookie-session-value; Path=/; SameSite=lax'}\n",
      "Cookie =  <RequestsCookieJar[<Cookie fakesession=fake-cookie-session-value for 127.0.0.1/>]>\n",
      "{\"message\":\"Come to the dark side, we have cookies\"}\n",
      "200\n"
     ]
    }
   ],
   "source": [
    "url     = 'http://127.0.0.1:8000/product/cookie-and-object/'\n",
    "r       = requests.post(url)\n",
    "print('URL = ',r.url)\n",
    "print('Header = ',r.headers)\n",
    "print('Cookie = ',)\n",
    "print(r.text)\n",
    "print(r.status_code)\n"
   ]
  },
  {
   "cell_type": "code",
   "execution_count": 37,
   "id": "9ed1aece",
   "metadata": {},
   "outputs": [
    {
     "name": "stdout",
     "output_type": "stream",
     "text": [
      "URL =  http://127.0.0.1:8000/product/cookie/\n",
      "Header =  {'date': 'Fri, 05 Nov 2021 07:51:41 GMT', 'server': 'uvicorn', 'content-length': '52', 'content-type': 'application/json', 'set-cookie': 'fakesession=fake-cookie-session-value; Path=/; SameSite=lax'}\n",
      "Cookie = \n",
      "{\"message\":\"Come to the dark side, we have cookies\"}\n",
      "200\n"
     ]
    }
   ],
   "source": [
    "url     = 'http://127.0.0.1:8000/product/cookie/'\n",
    "r       = requests.post(url)\n",
    "print('URL = ',r.url)\n",
    "print('Header = ',r.headers)\n",
    "print('Cookie = ',)\n",
    "print(r.text)\n",
    "print(r.status_code)\n"
   ]
  },
  {
   "cell_type": "code",
   "execution_count": null,
   "id": "3cb3394c",
   "metadata": {},
   "outputs": [],
   "source": []
  }
 ],
 "metadata": {
  "interpreter": {
   "hash": "97879d2e69e7cd290b97a5297f1f5035bdddfbfb0ef00f9ed6d91c62d6551b84"
  },
  "kernelspec": {
   "display_name": "Python 3.9.2 64-bit ('torch': conda)",
   "name": "python3"
  },
  "language_info": {
   "codemirror_mode": {
    "name": "ipython",
    "version": 3
   },
   "file_extension": ".py",
   "mimetype": "text/x-python",
   "name": "python",
   "nbconvert_exporter": "python",
   "pygments_lexer": "ipython3",
   "version": "3.9.2"
  }
 },
 "nbformat": 4,
 "nbformat_minor": 5
}
